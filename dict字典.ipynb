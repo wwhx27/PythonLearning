{
 "cells": [
  {
   "cell_type": "markdown",
   "metadata": {},
   "source": [
    "# dict 字典\n",
    "- 字典是一种组合数据\n",
    "- 没有顺序\n",
    "- 数据以键值对的形式出现"
   ]
  },
  {
   "cell_type": "code",
   "execution_count": 9,
   "metadata": {},
   "outputs": [
    {
     "name": "stdout",
     "output_type": "stream",
     "text": [
      "{}\n",
      "{}\n",
      "{'one': 1, 'two': 2, 'three': 3}\n",
      "{'one': 1, 'two': 2, 'three': 3}\n",
      "{'one': 1, 'two': 2, 'three': 3}\n",
      "{'one': 1, 'two': 2, 'three': 3}\n"
     ]
    }
   ],
   "source": [
    "# 字典的创建\n",
    "# 1.\n",
    "d = {}\n",
    "print(d)\n",
    "\n",
    "# 2.\n",
    "d = dict()\n",
    "print(d)\n",
    "\n",
    "# 3.创建有值的字典，每一组数据用冒号隔开,每组数据之间用逗号隔开\n",
    "d = {'one':1, 'two':2, 'three':3}\n",
    "print(d)\n",
    "\n",
    "# 4.用dict创建有内容的字典\n",
    "d = dict({'one':1, 'two':2, 'three':3})\n",
    "print(d)\n",
    "\n",
    "d = dict(one=1, two=2, three=3)\n",
    "print(d)\n",
    "\n",
    "d = dict([('one',1), ('two',2), ('three',3)])\n",
    "print(d)"
   ]
  },
  {
   "cell_type": "markdown",
   "metadata": {},
   "source": [
    "# 字典的特征\n",
    "- 字典是序列类型，但是是无序序列，所以没有分片和索引\n",
    "- 字典中的数据每个都有键值对组成\n",
    "    - key：必须是可哈希的值，比如：int，string，float，tuple。但是list，set，dict不行\n",
    "    - value：任何值"
   ]
  },
  {
   "cell_type": "markdown",
   "metadata": {},
   "source": [
    "# 字典常见操作"
   ]
  },
  {
   "cell_type": "code",
   "execution_count": 14,
   "metadata": {},
   "outputs": [
    {
     "name": "stdout",
     "output_type": "stream",
     "text": [
      "1\n",
      "{'one': 'ssss', 'two': 2, 'three': 3}\n",
      "{'two': 2, 'three': 3}\n"
     ]
    }
   ],
   "source": [
    "# 访问数据\n",
    "d = {'one':1, 'two':2, 'three':3}\n",
    "# 注意访问格式\n",
    "# 中括号内是键\n",
    "print(d['one'])\n",
    "\n",
    "d['one'] = 'ssss'\n",
    "print(d)\n",
    "\n",
    "# 删除\n",
    "# 使用del删除\n",
    "del d['one']\n",
    "print(d)"
   ]
  },
  {
   "cell_type": "code",
   "execution_count": 17,
   "metadata": {},
   "outputs": [
    {
     "name": "stdout",
     "output_type": "stream",
     "text": [
      "key\n"
     ]
    }
   ],
   "source": [
    "# 成员检测: in,not in\n",
    "# 成员检测，检测的是键的值\n",
    "d = {'one':1, 'two':2, 'three':3}\n",
    "if 2 in d:\n",
    "    print('value')\n",
    "if 'two' in d:\n",
    "    print('key')\n",
    "if ('two',2) in d:\n",
    "    print('kv')"
   ]
  },
  {
   "cell_type": "code",
   "execution_count": 21,
   "metadata": {},
   "outputs": [
    {
     "name": "stdout",
     "output_type": "stream",
     "text": [
      "one 1\n",
      "two 2\n",
      "three 3\n",
      "one 1\n",
      "two 2\n",
      "three 3\n",
      "1\n",
      "2\n",
      "3\n",
      "one -- 1\n",
      "two -- 2\n",
      "three -- 3\n"
     ]
    }
   ],
   "source": [
    "# 遍历\n",
    "d = {'one':1, 'two':2, 'three':3}\n",
    "\n",
    "# 1.\n",
    "for k in d:\n",
    "    print(k, d[k])\n",
    "    \n",
    "# 2.\n",
    "for k in d.keys():\n",
    "    print(k, d[k])\n",
    "\n",
    "# 3.\n",
    "for v in d.values():\n",
    "    print(v)\n",
    "    \n",
    "# 4.注意下面的特殊用法\n",
    "for k,v in d.items():\n",
    "    print(k,'--',v)"
   ]
  },
  {
   "cell_type": "markdown",
   "metadata": {},
   "source": [
    "# 字典生成式"
   ]
  },
  {
   "cell_type": "code",
   "execution_count": 24,
   "metadata": {},
   "outputs": [
    {
     "name": "stdout",
     "output_type": "stream",
     "text": [
      "{'one': 1, 'two': 2, 'three': 3}\n",
      "{'two': 2}\n"
     ]
    }
   ],
   "source": [
    "d = {'one':1, 'two':2, 'three':3}\n",
    "\n",
    "# 常规字典生成式\n",
    "dd = {k:v for k,v in d.items()}\n",
    "print(dd)\n",
    "\n",
    "# 加限制条件的字典生成式\n",
    "dd = {k:v for k,v in d.items() if v % 2 ==0}\n",
    "print(dd)"
   ]
  },
  {
   "cell_type": "markdown",
   "metadata": {},
   "source": [
    "# 字典相关函数"
   ]
  },
  {
   "cell_type": "code",
   "execution_count": 25,
   "metadata": {},
   "outputs": [
    {
     "name": "stdout",
     "output_type": "stream",
     "text": [
      "{'one': 1, 'two': 2, 'three': 3}\n"
     ]
    }
   ],
   "source": [
    "# 通用函数：len,max,min,dict\n",
    "# str(字典)：返回字典的字符串格式\n",
    "d = {'one':1, 'two':2, 'three':3}\n",
    "print(str(d))"
   ]
  },
  {
   "cell_type": "code",
   "execution_count": 27,
   "metadata": {},
   "outputs": [
    {
     "name": "stdout",
     "output_type": "stream",
     "text": [
      "<class 'dict_items'>\n",
      "dict_items([('one', 1), ('two', 2), ('three', 3)])\n"
     ]
    }
   ],
   "source": [
    "# clear: 清空字典\n",
    "# items：返回字典的键值对组成的元组格式\n",
    "i = d.items()\n",
    "print(type(i))\n",
    "print(i)"
   ]
  },
  {
   "cell_type": "code",
   "execution_count": 28,
   "metadata": {},
   "outputs": [
    {
     "name": "stdout",
     "output_type": "stream",
     "text": [
      "<class 'dict_keys'>\n",
      "dict_keys(['one', 'two', 'three'])\n"
     ]
    }
   ],
   "source": [
    "# keys: 返回字典的键组成的一个结构\n",
    "k = d.keys()\n",
    "print(type(k))\n",
    "print(k)"
   ]
  },
  {
   "cell_type": "code",
   "execution_count": 30,
   "metadata": {},
   "outputs": [
    {
     "name": "stdout",
     "output_type": "stream",
     "text": [
      "<class 'dict_values'>\n",
      "dict_values([1, 2, 3])\n"
     ]
    }
   ],
   "source": [
    "# values: 韩慧字典的值组成的一个结果，是一个可迭代的结构\n",
    "v= d.values()\n",
    "print(type(v))\n",
    "print(v)"
   ]
  },
  {
   "cell_type": "code",
   "execution_count": 33,
   "metadata": {},
   "outputs": [
    {
     "name": "stdout",
     "output_type": "stream",
     "text": [
      "None\n",
      "1\n",
      "100\n"
     ]
    },
    {
     "ename": "KeyError",
     "evalue": "'ons'",
     "output_type": "error",
     "traceback": [
      "\u001b[1;31m---------------------------------------------------------------------------\u001b[0m",
      "\u001b[1;31mKeyError\u001b[0m                                  Traceback (most recent call last)",
      "\u001b[1;32m<ipython-input-33-1bfd32e368f8>\u001b[0m in \u001b[0;36m<module>\u001b[1;34m\u001b[0m\n\u001b[0;32m      7\u001b[0m \u001b[1;33m\u001b[0m\u001b[0m\n\u001b[0;32m      8\u001b[0m \u001b[1;31m# 体会下面代码和上面第二行代码的区别\u001b[0m\u001b[1;33m\u001b[0m\u001b[1;33m\u001b[0m\u001b[1;33m\u001b[0m\u001b[0m\n\u001b[1;32m----> 9\u001b[1;33m \u001b[0mprint\u001b[0m\u001b[1;33m(\u001b[0m\u001b[0md\u001b[0m\u001b[1;33m[\u001b[0m\u001b[1;34m'ons'\u001b[0m\u001b[1;33m]\u001b[0m\u001b[1;33m)\u001b[0m\u001b[1;33m\u001b[0m\u001b[1;33m\u001b[0m\u001b[0m\n\u001b[0m",
      "\u001b[1;31mKeyError\u001b[0m: 'ons'"
     ]
    }
   ],
   "source": [
    "# get: 根据指定键返回相应的值，好处是：可以设置默认值\n",
    "print(d.get('ons'))\n",
    "\n",
    "# get默认值式None，可以设置\n",
    "print(d.get('one',100))\n",
    "print(d.get('one333',100))\n",
    "\n",
    "# 体会下面代码和上面第二行代码的区别\n",
    "print(d['ons'])"
   ]
  },
  {
   "cell_type": "code",
   "execution_count": 34,
   "metadata": {},
   "outputs": [
    {
     "name": "stdout",
     "output_type": "stream",
     "text": [
      "{'eins': 'hahaha', 'zwei': 'hahaha', 'drei': 'hahaha'}\n"
     ]
    }
   ],
   "source": [
    "# fromkeys: 使用指定的序列作为键，使用一个值作为字典的所有键的值\n",
    "l = ['eins','zwei','drei']\n",
    "# 注意fromkeys两个参数的类型\n",
    "# 注意fromkeys的调用主体\n",
    "d = dict.fromkeys(l,\"hahaha\")\n",
    "print(d)"
   ]
  },
  {
   "cell_type": "code",
   "execution_count": 2,
   "metadata": {},
   "outputs": [
    {
     "name": "stdout",
     "output_type": "stream",
     "text": [
      "a 1\n",
      "b 2\n",
      "c 3\n"
     ]
    }
   ],
   "source": [
    "def func(**kwargs):\n",
    "    for i in kwargs:\n",
    "        print(i,kwargs[i])\n",
    "func(a=1,b=2,c=3)"
   ]
  }
 ],
 "metadata": {
  "kernelspec": {
   "display_name": "Python 3",
   "language": "python",
   "name": "python3"
  },
  "language_info": {
   "codemirror_mode": {
    "name": "ipython",
    "version": 3
   },
   "file_extension": ".py",
   "mimetype": "text/x-python",
   "name": "python",
   "nbconvert_exporter": "python",
   "pygments_lexer": "ipython3",
   "version": "3.7.3"
  }
 },
 "nbformat": 4,
 "nbformat_minor": 2
}
