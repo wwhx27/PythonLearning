{
 "cells": [
  {
   "cell_type": "markdown",
   "metadata": {},
   "source": [
    "# list列表\n",
    "- 一组由有序数据做成的序列\n",
    "    - 数据就有先后顺序\n",
    "    - 数据类型可以不一样\n",
    "- list的创建\n",
    "    - 直接创建，用中括号创建，内容用英文逗号隔开 \n",
    "    - 使用list()创建\n",
    "    - 列表包含单个字符串的时候是一个特例"
   ]
  },
  {
   "cell_type": "code",
   "execution_count": 2,
   "metadata": {},
   "outputs": [
    {
     "name": "stdout",
     "output_type": "stream",
     "text": [
      "[1, 2, 3, 4, 5]\n",
      "[1, 3, 'xxxx', '泪飙']\n"
     ]
    }
   ],
   "source": [
    "L1 = [1,2,3,4,5]\n",
    "L2 = [1,3,'xxxx','泪飙']\n",
    "print(L1)\n",
    "print(L2)"
   ]
  },
  {
   "cell_type": "code",
   "execution_count": 3,
   "metadata": {},
   "outputs": [
    {
     "name": "stdout",
     "output_type": "stream",
     "text": [
      "[]\n",
      "<class 'list'>\n"
     ]
    }
   ],
   "source": [
    "# 创建列表的第二种方式\n",
    "L3 = list()\n",
    "print(L3)\n",
    "print(type(L3))"
   ]
  },
  {
   "cell_type": "markdown",
   "metadata": {},
   "source": [
    "# python 内建函数\n",
    "- help：帮助函数\n",
    "- type：显示变量的类型\n",
    "- id：显示变量的id\n",
    "- print：打印"
   ]
  },
  {
   "cell_type": "code",
   "execution_count": 6,
   "metadata": {},
   "outputs": [
    {
     "name": "stdout",
     "output_type": "stream",
     "text": [
      "<class 'list'>\n",
      "['xx ll']\n",
      "['x', 'x', ' ', 'l', 'l']\n"
     ]
    }
   ],
   "source": [
    "# list的创建\n",
    "s = 'xx ll'#100\n",
    "L1 = [s]\n",
    "L2 = list(s)\n",
    "print(type(L1))\n",
    "print(L1)\n",
    "print(L2)"
   ]
  },
  {
   "cell_type": "markdown",
   "metadata": {},
   "source": [
    "# 列表的常见操作\n",
    "- 访问\n",
    "    - 使用下标操作，也叫索引\n",
    "    - 列表的元素索引是从0开始\n",
    "- 切片操作\n",
    "    - 对列表进行任意一段的截取\n",
    "    - 截取之后，创建一个新的列表\n",
    "    - 切片操作需要注意取值范围，左包括右边不包括\n",
    "    - 切片下标可以为空\n",
    "    - 切片可以控制步长\n",
    "    - 下标可以超出范围，超出后不在考虑多余下标内容\n",
    "    - 下标值，增长幅度可以是负数\n",
    "    - 下标为负数，表明顺序是从右往左\n",
    "    - 规定：列表最后一个数据的下标是-1"
   ]
  },
  {
   "cell_type": "code",
   "execution_count": 10,
   "metadata": {},
   "outputs": [
    {
     "name": "stdout",
     "output_type": "stream",
     "text": [
      "22\n",
      "44\n"
     ]
    },
    {
     "ename": "IndexError",
     "evalue": "list index out of range",
     "output_type": "error",
     "traceback": [
      "\u001b[1;31m---------------------------------------------------------------------------\u001b[0m",
      "\u001b[1;31mIndexError\u001b[0m                                Traceback (most recent call last)",
      "\u001b[1;32m<ipython-input-10-f20fb4c7a8b4>\u001b[0m in \u001b[0;36m<module>\u001b[1;34m\u001b[0m\n\u001b[0;32m      2\u001b[0m \u001b[0mprint\u001b[0m\u001b[1;33m(\u001b[0m\u001b[0mL1\u001b[0m\u001b[1;33m[\u001b[0m\u001b[1;36m2\u001b[0m\u001b[1;33m]\u001b[0m\u001b[1;33m)\u001b[0m\u001b[1;33m\u001b[0m\u001b[1;33m\u001b[0m\u001b[0m\n\u001b[0;32m      3\u001b[0m \u001b[0mprint\u001b[0m\u001b[1;33m(\u001b[0m\u001b[0mL1\u001b[0m\u001b[1;33m[\u001b[0m\u001b[1;36m3\u001b[0m\u001b[1;33m]\u001b[0m\u001b[1;33m)\u001b[0m\u001b[1;33m\u001b[0m\u001b[1;33m\u001b[0m\u001b[0m\n\u001b[1;32m----> 4\u001b[1;33m \u001b[0mprint\u001b[0m\u001b[1;33m(\u001b[0m\u001b[0mL1\u001b[0m\u001b[1;33m[\u001b[0m\u001b[1;36m10\u001b[0m\u001b[1;33m]\u001b[0m\u001b[1;33m)\u001b[0m\u001b[1;33m\u001b[0m\u001b[1;33m\u001b[0m\u001b[0m\n\u001b[0m",
      "\u001b[1;31mIndexError\u001b[0m: list index out of range"
     ]
    }
   ],
   "source": [
    "L1 = [32,44,22,44,55,66]\n",
    "print(L1[2])\n",
    "print(L1[3])\n",
    "print(L1[10])"
   ]
  },
  {
   "cell_type": "code",
   "execution_count": 20,
   "metadata": {},
   "outputs": [
    {
     "name": "stdout",
     "output_type": "stream",
     "text": [
      "[2]\n",
      "2220561981000\n",
      "2220562436616\n"
     ]
    }
   ],
   "source": [
    "# 切片操作需要注意取值范围，左包括右边不包括\n",
    "L1 = [1,2,3,4,5,6,7,8,9,10]\n",
    "print(L1[1:2])\n",
    "\n",
    "# 下面结果说明切片后生成的是一个全新的列表\n",
    "# 通过内置函数id可以判断出切片是否生成了全新的列表\n",
    "# id的作用是用来判断两个变量是否是一个变量\n",
    "L2 = L1[1:2]\n",
    "print(id(L1))\n",
    "print(id(L2))"
   ]
  },
  {
   "cell_type": "code",
   "execution_count": 17,
   "metadata": {},
   "outputs": [
    {
     "name": "stdout",
     "output_type": "stream",
     "text": [
      "切片下标可以为空\n",
      "[1, 2, 3]\n",
      "[5, 6, 7, 8, 9, 10]\n",
      "[1, 2, 3, 4, 5, 6, 7, 8, 9, 10]\n"
     ]
    }
   ],
   "source": [
    "# 切片下标可以为空\n",
    "print(L1[:3])\n",
    "print(L1[4:])\n",
    "print(L1[:])"
   ]
  },
  {
   "cell_type": "code",
   "execution_count": 18,
   "metadata": {},
   "outputs": [
    {
     "name": "stdout",
     "output_type": "stream",
     "text": [
      "[1, 2, 3, 4, 5, 6, 7, 8, 9, 10]\n",
      "[1, 3, 5, 7, 9]\n"
     ]
    }
   ],
   "source": [
    "# 切片可以控制步长\n",
    "print(L1[::1]) #等于print(L1[:])\n",
    "print(L1[::2])"
   ]
  },
  {
   "cell_type": "code",
   "execution_count": 19,
   "metadata": {},
   "outputs": [
    {
     "name": "stdout",
     "output_type": "stream",
     "text": [
      "[1, 2, 3, 4, 5, 6, 7, 8, 9, 10]\n"
     ]
    }
   ],
   "source": [
    "#下标可以超出范围，超出后不在考虑多余下标内容\n",
    "print(L1[:100])"
   ]
  },
  {
   "cell_type": "code",
   "execution_count": 25,
   "metadata": {},
   "outputs": [
    {
     "name": "stdout",
     "output_type": "stream",
     "text": [
      "[]\n",
      "[9, 8, 7]\n",
      "[7, 8, 9]\n"
     ]
    }
   ],
   "source": [
    "# 下标是负数\n",
    "# 下面例子为空，因为默认是从左向右移动\n",
    "print(L1[-2:-5])\n",
    "\n",
    "# 如果想利用负数下标打印，则\n",
    "print(L1[-2:-5:-1])\n",
    "\n",
    "# 如果用负数下标打印，并且保持原来的顺序\n",
    "print(L1[-4:-1:1])"
   ]
  },
  {
   "cell_type": "code",
   "execution_count": 4,
   "metadata": {},
   "outputs": [
    {
     "name": "stdout",
     "output_type": "stream",
     "text": [
      "[1, 3, 4, 5, 6, 7]\n",
      "2787888550344\n",
      "2787888550344\n",
      "********************\n",
      "2787888550344\n",
      "2787887773128\n",
      "********************\n",
      "[1, 3, 4, 5, 6, 7]\n",
      "[1, 3, 4, 888, 6, 7]\n"
     ]
    }
   ],
   "source": [
    "# copy: 拷贝，浅拷贝 \n",
    "a = [1,3,4,5,6,7]\n",
    "print(a)\n",
    "# list类型，简单的赋值操作，是传地址\n",
    "b = a\n",
    "print(id(a))\n",
    "print(id(b))\n",
    "print('*' * 20)\n",
    "\n",
    "#为了解决上边的问题，list赋值需要采用copy函数\n",
    "b = a.copy()\n",
    "print(id(a))\n",
    "print(id(b))\n",
    "\n",
    "print('*' * 20)\n",
    "b[3] = 888\n",
    "print(a)\n",
    "print(b)"
   ]
  },
  {
   "cell_type": "code",
   "execution_count": 6,
   "metadata": {},
   "outputs": [
    {
     "name": "stdout",
     "output_type": "stream",
     "text": [
      "2787887773896\n",
      "2787887774600\n",
      "2787888446600\n",
      "2787888446600\n",
      "[1, 2, 3, [10, 20, 666]]\n",
      "[1, 2, 3, [10, 20, 666]]\n"
     ]
    }
   ],
   "source": [
    "# 深拷贝跟浅拷贝的区别\n",
    "\n",
    "a = [1,2,3,[10,20,30]]\n",
    "b = a.copy()\n",
    "print(id(a))\n",
    "print(id(b))\n",
    "print(id(a[3]))\n",
    "print(id(b[3]))\n",
    "a[3][2] = 666\n",
    "print(a)\n",
    "print(b)\n",
    "# 所以说copy是浅拷贝，深拷贝需要使用特定的工具\n",
    "\n"
   ]
  }
 ],
 "metadata": {
  "kernelspec": {
   "display_name": "Python 3",
   "language": "python",
   "name": "python3"
  },
  "language_info": {
   "codemirror_mode": {
    "name": "ipython",
    "version": 3
   },
   "file_extension": ".py",
   "mimetype": "text/x-python",
   "name": "python",
   "nbconvert_exporter": "python",
   "pygments_lexer": "ipython3",
   "version": "3.7.3"
  }
 },
 "nbformat": 4,
 "nbformat_minor": 2
}
