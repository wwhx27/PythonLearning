{
 "cells": [
  {
   "cell_type": "markdown",
   "metadata": {},
   "source": [
    "# 集合\n",
    "- 与数学中的概念一致\n",
    "- 内容**无序** + 内容不重复"
   ]
  },
  {
   "cell_type": "code",
   "execution_count": 7,
   "metadata": {},
   "outputs": [
    {
     "name": "stdout",
     "output_type": "stream",
     "text": [
      "set()\n",
      "{1, 2, 3, 4, 5, 6, 7}\n",
      "{1, 2, 4, 5, 6, 345234, 5467}\n"
     ]
    }
   ],
   "source": [
    "# 集合的定义\n",
    "# 1.通过set关键字\n",
    "sa = set()\n",
    "print(sa)\n",
    "\n",
    "li = [1,3,2,4,5,6,7,7]\n",
    "sb = set(li)\n",
    "print(sb)\n",
    "\n",
    "# 2.使用大括号\n",
    "sc = {1,2,4,5,2,4,5,6,5467,345234}\n",
    "print(sc)"
   ]
  },
  {
   "cell_type": "code",
   "execution_count": 8,
   "metadata": {},
   "outputs": [
    {
     "name": "stdout",
     "output_type": "stream",
     "text": [
      "2222\n",
      "1\n",
      "2\n",
      "4\n",
      "5\n",
      "6\n",
      "345234\n",
      "5467\n"
     ]
    }
   ],
   "source": [
    "# in 操作\n",
    "if 2 in sc:\n",
    "    print(2222)\n",
    "if 23 in sc:\n",
    "    print(5555)\n",
    "for i in sc:\n",
    "    print(i)"
   ]
  },
  {
   "cell_type": "code",
   "execution_count": 9,
   "metadata": {},
   "outputs": [
    {
     "name": "stdout",
     "output_type": "stream",
     "text": [
      "i love juannry\n",
      "4 5 6\n",
      "1 2 4\n"
     ]
    }
   ],
   "source": [
    "# 集合的另一种遍历\n",
    "sa = {(1,2,4),(4,5,6),('i','love','juannry')}\n",
    "for i,j,k in sa:\n",
    "    print(i,j,k)"
   ]
  },
  {
   "cell_type": "code",
   "execution_count": 13,
   "metadata": {},
   "outputs": [
    {
     "name": "stdout",
     "output_type": "stream",
     "text": [
      "{1, 3, 4, 5, 6, 7, 8}\n",
      "{8, 4, 6}\n",
      "{64, 1, 36, 9, 16, 49, 25}\n",
      "{1, 3, 4, 5, 6, 7, 8, 9, 12, 15, 16, 18, 20, 21, 24, 25, 28, 30, 32, 35, 36, 40, 42, 48, 49, 56, 64}\n"
     ]
    }
   ],
   "source": [
    "# 集合的生成式\n",
    "sa = {1,3,4,5,6,7,8}\n",
    "# 利用sa生成sb\n",
    "sb = {i for i in sa}\n",
    "print(sb)\n",
    "\n",
    "sc = {i for i in sa if i % 2 == 0}\n",
    "print(sc)\n",
    "\n",
    "sd = {i**2 for i in sa}\n",
    "print(sd)\n",
    "\n",
    "se = {m*n for m in sa for n in sa}\n",
    "print(se)"
   ]
  },
  {
   "cell_type": "code",
   "execution_count": 17,
   "metadata": {},
   "outputs": [
    {
     "name": "stdout",
     "output_type": "stream",
     "text": [
      "27\n",
      "{1, 3, 4, 5, 6, 7, 8, 100}\n"
     ]
    }
   ],
   "source": [
    "# 集合的内置函数\n",
    "# len：长度\n",
    "print(len(se))\n",
    "# max/min；最值\n",
    "# add: 向集合中添加元素\n",
    "sb.add(100)\n",
    "print(sb)\n",
    "# clear: 清空"
   ]
  },
  {
   "cell_type": "code",
   "execution_count": 23,
   "metadata": {},
   "outputs": [
    {
     "name": "stdout",
     "output_type": "stream",
     "text": [
      "{1, 3, 4, 6, 7, 8}\n",
      "{1, 3, 4, 6, 7, 8}\n"
     ]
    }
   ],
   "source": [
    "# 删除操作\n",
    "# remove 和 discard 的区别\n",
    "sa = {1,3,4,5,6,7,8}\n",
    "sa.remove(5)\n",
    "print(sa)\n",
    "# remove删除的值不在集合中，会报错\n",
    "# discard删除的值不在集合中，不会报错\n",
    "sa.discard(5)\n",
    "print(sa)"
   ]
  },
  {
   "cell_type": "code",
   "execution_count": 41,
   "metadata": {},
   "outputs": [
    {
     "name": "stdout",
     "output_type": "stream",
     "text": [
      "{1, 3, 4, 5, 6, 7, 8}\n",
      "{3, 4, 5, 6, 7, 8}\n",
      "{4, 5, 6, 7, 8}\n",
      "{5, 6, 7, 8}\n",
      "{6, 7, 8}\n",
      "{7, 8}\n",
      "{8}\n",
      "{'cherry', 'apple', 'orange', 'banana'}\n",
      "{'apple', 'orange', 'banana'}\n"
     ]
    }
   ],
   "source": [
    "# pop 弹出集合的一个内容\n",
    "# 删除的内容式随机的\n",
    "sa = {1,3,4,5,6,7,8}\n",
    "print(sa)\n",
    "for i in range(6):\n",
    "    sa.pop()\n",
    "    print(sa)\n",
    "    \n",
    "    \n",
    "sb = {'banana','orange','cherry','apple'}\n",
    "print(sb)\n",
    "sb.pop()\n",
    "print(sb)"
   ]
  },
  {
   "cell_type": "code",
   "execution_count": 47,
   "metadata": {},
   "outputs": [
    {
     "name": "stdout",
     "output_type": "stream",
     "text": [
      "{1, 4, 6}\n",
      "{3, 5, 7}\n",
      "{3, 5, 7}\n",
      "{1, 3, 4, 5, 6, 7, 8, 9}\n"
     ]
    }
   ],
   "source": [
    "# 集合的数学运算\n",
    "sa = {1,3,4,5,6,7}\n",
    "sb = {1,4,6,8,9}\n",
    "\n",
    "# intersection: 交集\n",
    "print(sa.intersection(sb))\n",
    "\n",
    "# difference: 差集\n",
    "print(sa.difference(sb))\n",
    "# 差集的另一种表示\n",
    "print(sa - sb)\n",
    "\n",
    "# union: 并集\n",
    "print(sa.union(sb))"
   ]
  },
  {
   "cell_type": "markdown",
   "metadata": {},
   "source": [
    "# frozenset 冰冻集合\n",
    "- 不允许修改的集合"
   ]
  },
  {
   "cell_type": "code",
   "execution_count": 48,
   "metadata": {},
   "outputs": [
    {
     "name": "stdout",
     "output_type": "stream",
     "text": [
      "{1, 3, 4, 5, 6, 7}\n",
      "frozenset({1, 3, 4, 5, 6, 7})\n"
     ]
    }
   ],
   "source": [
    "print(sa)\n",
    "sb = frozenset(sa)\n",
    "print(sb)"
   ]
  }
 ],
 "metadata": {
  "kernelspec": {
   "display_name": "Python 3",
   "language": "python",
   "name": "python3"
  },
  "language_info": {
   "codemirror_mode": {
    "name": "ipython",
    "version": 3
   },
   "file_extension": ".py",
   "mimetype": "text/x-python",
   "name": "python",
   "nbconvert_exporter": "python",
   "pygments_lexer": "ipython3",
   "version": "3.7.3"
  }
 },
 "nbformat": 4,
 "nbformat_minor": 2
}
