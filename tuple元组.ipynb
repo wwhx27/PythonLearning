{
 "cells": [
  {
   "cell_type": "markdown",
   "metadata": {},
   "source": [
    "# tuple 元组\n",
    "    - 可以理解成一个不允许更改的列表"
   ]
  },
  {
   "cell_type": "code",
   "execution_count": 7,
   "metadata": {},
   "outputs": [
    {
     "name": "stdout",
     "output_type": "stream",
     "text": [
      "<class 'tuple'>\n",
      "<class 'int'>\n",
      "<class 'tuple'>\n",
      "(100, 200, 300)\n",
      "<class 'tuple'>\n",
      "<class 'tuple'>\n",
      "()\n",
      "(1, 2, 3, 'juannry')\n",
      "[1, 2, 3, 'juannry']\n"
     ]
    }
   ],
   "source": [
    "# tuple的创建\n",
    "\n",
    "# 1.直接用小括号\n",
    "ta = ()\n",
    "print(type(ta))\n",
    "#当用小括号创建一个元素的tuple的时候\n",
    "tb = (100)\n",
    "print(type(tb))\n",
    "tc = (100,)\n",
    "print(type(tc))\n",
    "td = (100,200,300)\n",
    "print(td)\n",
    "\n",
    "# 2.直接用逗号\n",
    "ta = 100,\n",
    "print(type(ta))\n",
    "tb = 100,200,300 #300后可以有逗号，但一般不加逗号\n",
    "print(type(tb))\n",
    "\n",
    "# 3. 使用tuple定义\n",
    "ta = tuple()\n",
    "print(ta)\n",
    "\n",
    "li = [1,2,3,\"juannry\"]\n",
    "tb = tuple(li) #参数要求必须可迭代\n",
    "print(tb)\n",
    "print(li)"
   ]
  },
  {
   "cell_type": "markdown",
   "metadata": {},
   "source": [
    "### tuple其余特征跟list基本一致\n",
    "- 有序\n",
    "- 可以访问不可以被修改\n",
    "- 元素可以是任意类型"
   ]
  },
  {
   "cell_type": "code",
   "execution_count": 8,
   "metadata": {},
   "outputs": [
    {
     "name": "stdout",
     "output_type": "stream",
     "text": [
      "['i', 'love', 'juannry']\n",
      "juannry\n"
     ]
    }
   ],
   "source": [
    "# tuple索引操作\n",
    "la = ['i','love','juannry']\n",
    "print(la)\n",
    "ta = tuple(la)\n",
    "print(ta[2])"
   ]
  },
  {
   "cell_type": "code",
   "execution_count": 9,
   "metadata": {},
   "outputs": [
    {
     "name": "stdout",
     "output_type": "stream",
     "text": [
      "('i', 'love', 'juannry')\n",
      "('i', 'love')\n",
      "('juannry', 'love', 'i')\n"
     ]
    }
   ],
   "source": [
    "# tuple分片操作\n",
    "print(ta[:])\n",
    "print(ta[:2])\n",
    "print(ta[-1::-1])"
   ]
  },
  {
   "cell_type": "code",
   "execution_count": 10,
   "metadata": {},
   "outputs": [
    {
     "name": "stdout",
     "output_type": "stream",
     "text": [
      "(100, 200, 300, 'i', 'love', 'juannry')\n"
     ]
    }
   ],
   "source": [
    "# tuple的相加\n",
    "ta = 100,200,300\n",
    "tb = ('i','love','juannry')\n",
    "tc = ta + tb\n",
    "print(tc)"
   ]
  },
  {
   "cell_type": "code",
   "execution_count": 11,
   "metadata": {},
   "outputs": [
    {
     "name": "stdout",
     "output_type": "stream",
     "text": [
      "('i', 'love', 'juannry', 'i', 'love', 'juannry')\n"
     ]
    }
   ],
   "source": [
    "# tuple 乘法\n",
    "tc = tb * 2\n",
    "print(tc)"
   ]
  },
  {
   "cell_type": "code",
   "execution_count": 13,
   "metadata": {},
   "outputs": [
    {
     "name": "stdout",
     "output_type": "stream",
     "text": [
      "('i', 'love', 'juannry')\n",
      "true\n"
     ]
    }
   ],
   "source": [
    "# tuple 成员检测\n",
    "print(tb)\n",
    "if \"juannry\" in tb:\n",
    "    print('true')\n",
    "if 'love' not in tb:\n",
    "    print('don\\'t love')"
   ]
  },
  {
   "cell_type": "code",
   "execution_count": 14,
   "metadata": {},
   "outputs": [
    {
     "name": "stdout",
     "output_type": "stream",
     "text": [
      "i\n",
      "love\n",
      "juannry\n"
     ]
    }
   ],
   "source": [
    "# 元组遍历\n",
    "for i in tb:\n",
    "    print(i)"
   ]
  },
  {
   "cell_type": "code",
   "execution_count": 17,
   "metadata": {},
   "outputs": [
    {
     "name": "stdout",
     "output_type": "stream",
     "text": [
      "(10, 20, 30)\n",
      "10\n",
      "20\n",
      "30\n",
      "('i', 'love', 'juannry')\n",
      "i\n",
      "love\n",
      "juannry\n",
      "(100, 200, 300)\n",
      "100\n",
      "200\n",
      "300\n",
      "\n",
      "单层循环访问\n",
      "10 20 30\n",
      "i love juannry\n",
      "100 200 300\n"
     ]
    }
   ],
   "source": [
    "# tuple的嵌套\n",
    "ta = ((10,20,30),('i','love','juannry'),(100,200,300))\n",
    "\n",
    "# 1.双层循环访问\n",
    "for i in ta:\n",
    "    print(i)\n",
    "    for j in i:\n",
    "        print(j)\n",
    "        \n",
    "# 2.单层循环访问\n",
    "print()\n",
    "print('单层循环访问')\n",
    "for i,j,k in ta:\n",
    "    print(i,j,k)\n",
    "# 上面访问有一个规定，即i,j,k要跟元组的元素个数对应"
   ]
  },
  {
   "cell_type": "code",
   "execution_count": 20,
   "metadata": {},
   "outputs": [
    {
     "name": "stdout",
     "output_type": "stream",
     "text": [
      "8\n",
      "554\n"
     ]
    }
   ],
   "source": [
    "# 常用元组函数\n",
    "ta = (2,4,56,7,97,554,343,34)\n",
    "# len: 长度\n",
    "print(len(ta))\n",
    "# max: 最大值\n",
    "print(max(ta))"
   ]
  },
  {
   "cell_type": "code",
   "execution_count": 23,
   "metadata": {},
   "outputs": [
    {
     "name": "stdout",
     "output_type": "stream",
     "text": [
      "5\n",
      "0\n"
     ]
    }
   ],
   "source": [
    "# count: 对某一元素计数\n",
    "ta = (1,2,3,4,5,1,1,1,1)\n",
    "print(ta.count(1))\n",
    "#index: 某一元素所在位置\n",
    "print(ta.index(1))"
   ]
  },
  {
   "cell_type": "code",
   "execution_count": 24,
   "metadata": {},
   "outputs": [
    {
     "name": "stdout",
     "output_type": "stream",
     "text": [
      "100 juannry\n",
      "juannry 100\n"
     ]
    }
   ],
   "source": [
    "# tuple的特殊用法\n",
    "a = 100\n",
    "b = \"juannry\"\n",
    "# 要求对a，b值进行互换\n",
    "print(a,b)\n",
    "a,b = b,a\n",
    "print(a,b)"
   ]
  }
 ],
 "metadata": {
  "kernelspec": {
   "display_name": "Python 3",
   "language": "python",
   "name": "python3"
  },
  "language_info": {
   "codemirror_mode": {
    "name": "ipython",
    "version": 3
   },
   "file_extension": ".py",
   "mimetype": "text/x-python",
   "name": "python",
   "nbconvert_exporter": "python",
   "pygments_lexer": "ipython3",
   "version": "3.7.3"
  }
 },
 "nbformat": 4,
 "nbformat_minor": 2
}
