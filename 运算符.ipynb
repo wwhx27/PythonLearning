{
 "cells": [
  {
   "cell_type": "markdown",
   "metadata": {},
   "source": [
    "# 表达式\n",
    "- 由一个或者几个数字或者变量或者运算符合成的一行代码\n",
    "- 通常返回一个结果"
   ]
  },
  {
   "cell_type": "code",
   "execution_count": 1,
   "metadata": {},
   "outputs": [],
   "source": [
    "#表达式\n",
    "a = 1 + 2"
   ]
  },
  {
   "cell_type": "markdown",
   "metadata": {},
   "source": [
    "# 运算符\n",
    "- 由一个以上的值经过一系列运算得到新值的过程就叫运算\n",
    "- 用来操作运算的符号叫运算符\n",
    "- 运算符分类\n",
    "    - 算数运算符\n",
    "    - 比较或者关系运算符\n",
    "    - 赋值运算符\n",
    "    - 逻辑运算符\n",
    "    - 位运算符\n",
    "    - 成员运算符\n",
    "    - 身份运算符"
   ]
  },
  {
   "cell_type": "markdown",
   "metadata": {},
   "source": [
    "# 算数运算符\n",
    "- 用来进行算数运算的符号\n",
    "- 通常用来表示加减乘除\n",
    "- python没有自增自减运算符"
   ]
  },
  {
   "cell_type": "code",
   "execution_count": 5,
   "metadata": {},
   "outputs": [
    {
     "name": "stdout",
     "output_type": "stream",
     "text": [
      "7\n",
      "11\n",
      "16\n",
      "4.5\n",
      "4\n",
      "1\n",
      "-3\n",
      "49\n"
     ]
    }
   ],
   "source": [
    "# 算术运算符\n",
    "# 加减乘跟数学意义基本一致\n",
    "a = 9 - 2\n",
    "print(a)\n",
    "\n",
    "b = 9 + 2\n",
    "print(b)\n",
    "\n",
    "c = 8 * 2\n",
    "print(c)\n",
    "\n",
    "# python除法分为普通除法、地板除、取余\n",
    "\n",
    "# 正常除法\n",
    "# 此操作符在python2.x和3.x中有些不同\n",
    "a = 9 / 2\n",
    "print(a)\n",
    "\n",
    "# 地板除，取整\n",
    "a = 9 // 2\n",
    "print(a)\n",
    "\n",
    "# 取余\n",
    "a = 9 % 2\n",
    "print(a)\n",
    "\n",
    "# 除以负数的结果\n",
    "# 理解这个结果参考取余的定义 a = qd + r (0<r<d)\n",
    "a = 9 % -4\n",
    "print(a)\n",
    "\n",
    "# 两个乘号就是指数\n",
    "a = 7 ** 2\n",
    "print(a)"
   ]
  },
  {
   "cell_type": "markdown",
   "metadata": {},
   "source": [
    "# 比较运算符\n",
    "- 对两个内容进行比较的运算符\n",
    "- 结果一定使布尔值， 即True/False"
   ]
  },
  {
   "cell_type": "code",
   "execution_count": 8,
   "metadata": {},
   "outputs": [
    {
     "name": "stdout",
     "output_type": "stream",
     "text": [
      "False\n",
      "True\n",
      "False\n",
      "False\n"
     ]
    }
   ],
   "source": [
    "# 等于 ==\n",
    "a = 3 == 4\n",
    "print(a)\n",
    "\n",
    "# 不等于 ！=\n",
    "a = 3 != 4\n",
    "print(a)\n",
    "\n",
    "# 其他的符号是\n",
    "# >, >=, <, <=\n",
    "print(3 >= 8)\n",
    "print(\"Ju\" > \"da\")"
   ]
  },
  {
   "cell_type": "markdown",
   "metadata": {},
   "source": [
    "# 赋值运算符\n",
    "- 把一个值放到变量里边去"
   ]
  },
  {
   "cell_type": "code",
   "execution_count": 13,
   "metadata": {},
   "outputs": [
    {
     "name": "stdout",
     "output_type": "stream",
     "text": [
      "103\n",
      "106\n"
     ]
    }
   ],
   "source": [
    "# 赋值符号 =\n",
    "a = 9\n",
    "\n",
    "# 复杂赋值\n",
    "a = b = 9\n",
    "a,b = 1,2\n",
    "\n",
    "# 赋值的缩写\n",
    "cc = 100\n",
    "cc = cc + 3\n",
    "print(cc)\n",
    "\n",
    "# 注意下面符号仅仅是个缩写\n",
    "cc += 3\n",
    "print(cc)\n",
    "\n",
    "# 所有数学运算符都可以缩写\n",
    "# -=, *=, /=, //=, %=, **= 都是缩写形式\n",
    "# python里面没有 ++ ，--"
   ]
  },
  {
   "cell_type": "markdown",
   "metadata": {},
   "source": [
    "# 逻辑运算符\n",
    "- 对布尔类型变量或者值进行运算的符号\n",
    "- and: 逻辑与\n",
    "- or: 逻辑或\n",
    "- not: 逻辑非\n",
    "- python里边的逻辑运算没有异或\n",
    "- 运算规则：\n",
    "    - and看做乘法， or看做加法\n",
    "    - True看做1， False看做0\n",
    "    - 逻辑运算就能转换成整数数学运算\n",
    "    - 最后结果如果是0则为False， 否则为True\n",
    "- 逻辑运算的短路问题\n",
    "    - 逻辑运算式，按照运算顺序计算，一旦能够确定整个式子后边的值，则不再进行计算，直接返回"
   ]
  },
  {
   "cell_type": "code",
   "execution_count": 14,
   "metadata": {},
   "outputs": [
    {
     "name": "stdout",
     "output_type": "stream",
     "text": [
      "True\n",
      "False\n"
     ]
    }
   ],
   "source": [
    "# 逻辑表达\n",
    "a = True\n",
    "b = True\n",
    "c = False\n",
    "\n",
    "aa = a and b  # 左边表达式可以转换成 1 * 1\n",
    "print(aa)\n",
    "\n",
    "bb = a and c\n",
    "print(bb)\n",
    "\n",
    "cc = 100 and c\n",
    "print(cc)\n",
    "\n",
    "# 布尔值跟数字的转化：\n",
    "# 数字转换成布尔值的时候： 0 = false, 其余是true\n",
    "# 布尔值转化成数字的时候：True = 1， False = 0"
   ]
  },
  {
   "cell_type": "code",
   "execution_count": 15,
   "metadata": {},
   "outputs": [
    {
     "name": "stdout",
     "output_type": "stream",
     "text": [
      "True\n"
     ]
    }
   ],
   "source": [
    "# 短路问题\n",
    "a = True\n",
    "b = True\n",
    "c = False\n",
    "\n",
    "aa = a or b and (a and b) # 转换成算数 1 + 。。。。\n",
    "print(aa)"
   ]
  },
  {
   "cell_type": "code",
   "execution_count": 16,
   "metadata": {},
   "outputs": [
    {
     "name": "stdout",
     "output_type": "stream",
     "text": [
      "a\n",
      "b\n",
      "AAAAA\n",
      "********************\n",
      "a\n",
      "BBBBB\n"
     ]
    }
   ],
   "source": [
    " # 短路问题2\n",
    "def a():\n",
    "    print('a')\n",
    "    return True\n",
    "\n",
    "def b():\n",
    "    print('b')\n",
    "    return True\n",
    "\n",
    "if a() and b():\n",
    "    print(\"AAAAA\")\n",
    "print(\"*\" * 20)\n",
    "if a() or b():\n",
    "    print(\"BBBBB\")"
   ]
  },
  {
   "cell_type": "markdown",
   "metadata": {},
   "source": [
    "# 成员运算符\n",
    "- 用来检测一个值或着变量是否在某个集合里面\n",
    "- in：成员运算符\n",
    "- not in：不在里边的意思"
   ]
  },
  {
   "cell_type": "code",
   "execution_count": 19,
   "metadata": {},
   "outputs": [
    {
     "name": "stdout",
     "output_type": "stream",
     "text": [
      "False\n",
      "True\n"
     ]
    }
   ],
   "source": [
    "# in\n",
    "L = [1,2,3,4,5]\n",
    "a = 6\n",
    "aa = a in L\n",
    "print(aa)\n",
    "aa = a not in L\n",
    "print(aa)"
   ]
  },
  {
   "cell_type": "markdown",
   "metadata": {},
   "source": [
    "# 身份运算符\n",
    "- 用来确定两个变量是否是同一变量\n",
    "- is：变量运算符\n",
    "- is not：不是\n",
    "- 在python中，对整数N in[-5, 256],解释器对他们做了单独的处理，放进了固定的内存中，不因你每次运行而变化。\n",
    "不仅对小整数有这样的处理，内建的类（int，staticmamethod，object，TypeError。。。）也都是这样处理的。看一个变量的内存是不是这样处理的，无需运行两次，只要看id（）编号的长度就行，他们都是10位，普通变量都是13位。"
   ]
  },
  {
   "cell_type": "code",
   "execution_count": 21,
   "metadata": {},
   "outputs": [
    {
     "name": "stdout",
     "output_type": "stream",
     "text": [
      "False\n",
      "False\n",
      "True\n"
     ]
    }
   ],
   "source": [
    "# 身份运算符\n",
    "a = 1\n",
    "b = 1000989888\n",
    "aa = a is b\n",
    "print(aa)\n",
    "    \n",
    "# a, b仅仅是值一样，并不代表a，b是一个变量\n",
    "a = 1000989888\n",
    "b = 1000989888\n",
    "aa = a is b\n",
    "print(aa)\n",
    "\n",
    "a = 5\n",
    "b = 5\n",
    "aa = a is b\n",
    "print(aa)"
   ]
  },
  {
   "cell_type": "markdown",
   "metadata": {},
   "source": [
    "# 运算符优先级问题\n",
    "- 小括号具有最高优先级\n",
    "\n",
    "    ** 指数（最高优先级）\n",
    "    ~ + - 按位翻转， \n",
    "    * / % // 乘，除，取模和取整数\n",
    "    + - 加法 减法\n",
    "    << >> 左移， 右移运算符\n",
    "    &\n",
    "    ^ | \n",
    "    <= < > >=\n",
    "    = %= /= //= -= += **= \n",
    "    is， is not\n",
    "    in, not in\n",
    "    not, or, and"
   ]
  }
 ],
 "metadata": {
  "kernelspec": {
   "display_name": "Python 3",
   "language": "python",
   "name": "python3"
  },
  "language_info": {
   "codemirror_mode": {
    "name": "ipython",
    "version": 3
   },
   "file_extension": ".py",
   "mimetype": "text/x-python",
   "name": "python",
   "nbconvert_exporter": "python",
   "pygments_lexer": "ipython3",
   "version": "3.7.3"
  }
 },
 "nbformat": 4,
 "nbformat_minor": 2
}
